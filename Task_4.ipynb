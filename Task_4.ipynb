{
  "nbformat": 4,
  "nbformat_minor": 0,
  "metadata": {
    "colab": {
      "provenance": [],
      "authorship_tag": "ABX9TyPbP4/YcBMbf9/lJw1QEDdH",
      "include_colab_link": true
    },
    "kernelspec": {
      "name": "python3",
      "display_name": "Python 3"
    },
    "language_info": {
      "name": "python"
    }
  },
  "cells": [
    {
      "cell_type": "markdown",
      "metadata": {
        "id": "view-in-github",
        "colab_type": "text"
      },
      "source": [
        "<a href=\"https://colab.research.google.com/github/saiteja-ms/Assignment/blob/main/Task_4.ipynb\" target=\"_parent\"><img src=\"https://colab.research.google.com/assets/colab-badge.svg\" alt=\"Open In Colab\"/></a>"
      ]
    },
    {
      "cell_type": "code",
      "execution_count": null,
      "metadata": {
        "id": "oNZ2Q7bFsVYo"
      },
      "outputs": [],
      "source": [
        "'''import requests\n",
        "\n",
        "def translate_to_english(text):\n",
        "    # URL for the Sarvam Translation API\n",
        "    url = 'https://api.sarvam.ai/<api-endpoint>'\n",
        "\n",
        "    # Headers containing the API key\n",
        "    headers = {\n",
        "        'API-Subscription-Key': '443f8d9a-23b8-43a4-99e8-a966fe61ff65'\n",
        "    }\n",
        "\n",
        "    # Data payload with the text to be translated\n",
        "    data = {\n",
        "        'text': text,\n",
        "    }\n",
        "\n",
        "    # Making a POST request to the translation API\n",
        "    response = requests.post(url, headers=headers, json=data)\n",
        "\n",
        "    print(response.json())\n",
        "'''"
      ]
    },
    {
      "cell_type": "code",
      "source": [
        "# Example usage\n",
        "'''\n",
        "if __name__ == \"__main__\":\n",
        "    text_to_translate = \"Bonjour tout le monde\"  # Example text in French\n",
        "    translated_text = translate_to_english(text_to_translate)\n",
        "    print(translated_text)\n",
        "'''"
      ],
      "metadata": {
        "colab": {
          "base_uri": "https://localhost:8080/"
        },
        "id": "s9mV0Ls4sYfZ",
        "outputId": "ffacc943-0312-4fe4-d0ee-b07d5387ff46"
      },
      "execution_count": null,
      "outputs": [
        {
          "output_type": "stream",
          "name": "stdout",
          "text": [
            "Error: 400 - {\"error\":{\"message\":\"body.input : Field required\",\"code\":\"invalid_request_error\"}}\n"
          ]
        }
      ]
    },
    {
      "cell_type": "code",
      "source": [
        "'''\n",
        "import requests\n",
        "\n",
        "url = 'https://api.sarvam.ai/<api-endpoint>'\n",
        "headers = {\n",
        "    'API-Subscription-Key': '443f8d9a-23b8-43a4-99e8-a966fe61ff65'\n",
        "}\n",
        "data = {\n",
        "    'text': 'Sarvam AI is a powerful platform for LLM tasks.'\n",
        "}\n",
        "\n",
        "response = requests.post(url, headers=headers, json=data)\n",
        "print(response.json())\n",
        "'''"
      ],
      "metadata": {
        "colab": {
          "base_uri": "https://localhost:8080/"
        },
        "id": "NojXeeprtJoG",
        "outputId": "5a201c5a-26f2-42fa-baa5-8bf1ca5bd9ea"
      },
      "execution_count": null,
      "outputs": [
        {
          "output_type": "stream",
          "name": "stdout",
          "text": [
            "{'error': {'message': 'Not Found', 'code': 'not_found_error'}}\n"
          ]
        }
      ]
    },
    {
      "cell_type": "code",
      "source": [
        "'''payload = {\n",
        "    \"input\": \"Sarvam AI is a powerful platform for LLM tasks.\",\n",
        "    \"source_language_code\": \"en-IN\",\n",
        "    \"target_language_code\": \"hi-IN\",\n",
        "    \"speaker_gender\": \"Male\",\n",
        "    \"mode\": \"formal\",\n",
        "    \"model\": \"mayura:v1\",\n",
        "    \"enable_preprocessing\": True\n",
        "}\n",
        "headers = {\"Content-Type\": \"application/json\"}\n",
        "\n",
        "response = requests.request(\"POST\", url, json=payload, headers=headers)\n",
        "\n",
        "print(response.text)\n",
        "'''"
      ],
      "metadata": {
        "colab": {
          "base_uri": "https://localhost:8080/"
        },
        "id": "PZ4lQQDxtjjb",
        "outputId": "a5e553ba-6b5c-4e86-bdaf-420ebbc3726c"
      },
      "execution_count": null,
      "outputs": [
        {
          "output_type": "stream",
          "name": "stdout",
          "text": [
            "{\"error\":{\"message\":\"Not Found\",\"code\":\"not_found_error\"}}\n"
          ]
        }
      ]
    },
    {
      "cell_type": "code",
      "source": [
        "import requests\n",
        "import json"
      ],
      "metadata": {
        "id": "tmGxjAWtrXno"
      },
      "execution_count": 1,
      "outputs": []
    },
    {
      "cell_type": "code",
      "source": [
        "def translate_to_english(text, source_language_code):\n",
        "    # URL for the Sarvam Translation API\n",
        "    url = \"https://api.sarvam.ai/translate\"\n",
        "\n",
        "    # Headers containing the API key\n",
        "    api_key = '443f8d9a-23b8-43a4-99e8-a966fe61ff65'\n",
        "    headers = {\n",
        "        'API-Subscription-Key': api_key,\n",
        "        'Content-Type': 'application/json'\n",
        "    }\n",
        "\n",
        "    # Data payload with the text to be translated\n",
        "    payload = {\n",
        "        \"input\": text,\n",
        "        \"source_language_code\": source_language_code,\n",
        "        \"target_language_code\": \"en-IN\",\n",
        "        \"speaker_gender\": \"Male\",\n",
        "        \"mode\": \"formal\",\n",
        "        \"model\": \"mayura:v1\",\n",
        "        \"enable_preprocessing\": True\n",
        "    }\n",
        "\n",
        "    # Making a POST request to the translation API\n",
        "    response = requests.post(url, headers=headers, json=payload)\n",
        "\n",
        "    # Check if the request was successful\n",
        "    if response.status_code == 200:\n",
        "        return response.text\n",
        "    else:\n",
        "        return \"Error: \" + str(response.status_code) + \", \" + response.text\n"
      ],
      "metadata": {
        "id": "6HI21kMCrZQX"
      },
      "execution_count": 14,
      "outputs": []
    },
    {
      "cell_type": "code",
      "source": [
        "if __name__ == \"__main__\":\n",
        "    text_to_translate = \"नमस्ते दोस्तों, मैं आज बहुत खुश हूँ।\" # Example text in French\n",
        "    source_language_code = \"hi-IN\"  # Source language code\n",
        "    translated_text = translate_to_english(text_to_translate, source_language_code)\n",
        "    print(translated_text)"
      ],
      "metadata": {
        "colab": {
          "base_uri": "https://localhost:8080/"
        },
        "id": "H564cPqWrhco",
        "outputId": "fea622b5-ac72-4570-b2a0-6146acf67c82"
      },
      "execution_count": 15,
      "outputs": [
        {
          "output_type": "stream",
          "name": "stdout",
          "text": [
            "Error: 400, {\"error\":{\"message\":\"body.source_language_code : Input should be 'en-IN'\",\"code\":\"invalid_request_error\"}}\n"
          ]
        }
      ]
    }
  ]
}